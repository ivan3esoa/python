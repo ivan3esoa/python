{
 "cells": [
  {
   "cell_type": "markdown",
   "metadata": {
    "id": "XUyZd7-iBfrW"
   },
   "source": [
    "<a href=\"https://colab.research.google.com/github/institutohumai/cursos-python/blob/master/Introduccion/1_TiposDatos/tipos-datos.ipynb\"> <img src='https://colab.research.google.com/assets/colab-badge.svg' /> </a>\n",
    "<div align=\"center\"> Recordá abrir en una nueva pestaña </div>\n"
   ]
  },
  {
   "cell_type": "code",
   "execution_count": null,
   "metadata": {
    "hidePrompt": false,
    "id": "9al6coO99zcc"
   },
   "outputs": [],
   "source": [
    "# Introducción a la programación con Python"
   ]
  },
  {
   "cell_type": "markdown",
   "metadata": {
    "id": "C0_7EXdLBfri"
   },
   "source": [
    "<h1 id=\"tocheading\">Tabla de Contenidos</h1>\n",
    "<div id=\"toc\"></div>"
   ]
  },
  {
   "cell_type": "markdown",
   "metadata": {
    "id": "_m4B4S5rBfrj"
   },
   "source": [
    "I. Introducción a la programación con Python\n",
    "\n",
    "II. Tabla de Contenidos\n",
    "\n",
    "    I. Python\n",
    "\n",
    "III. IDEs\n",
    "\n",
    "        I. VS Code\n",
    "        II. Pycharm\n",
    "        III. Spyder\n",
    "\n",
    "IV. Hola Jupyter!\n",
    "\n",
    "V. Declarando variables\n",
    "\n",
    "    I. Numéricos\n",
    "    II. Operaciones numéricas - Divisiones\n",
    "    III. Booleanos\n",
    "        I. Operaciones lógicas\n",
    "\n",
    "VI. Ejercicios\n",
    "\n",
    "    I. Strings\n",
    "            I. Ejercicios\n",
    "    II. Listas\n",
    "        I. Indexing y slicing en listas\n",
    "        II. Otras operaciones y métodos\n",
    "    III. Diccionarios\n",
    "    IV. Condicionales\n",
    "    V. Bucles o Loops\n",
    "        I. For loop\n",
    "        II. While loop\n",
    "    VI. Recursos y tips\n",
    "    VII. Tips en la práctica"
   ]
  },
  {
   "cell_type": "markdown",
   "metadata": {
    "hidePrompt": true,
    "id": "AZVPO9a1Bfrk"
   },
   "source": [
    "## Python\n",
    "\n",
    "- Elegante, sencillo\n",
    "- Comunidad y accesibilidad\n",
    "- Desarrollos de estado del arte\n",
    "- Flexibilidad \"full stack\"\n",
    "- Multi-paradigma\n"
   ]
  },
  {
   "cell_type": "markdown",
   "metadata": {
    "id": "tMz50e-oBfrl"
   },
   "source": [
    "# IDEs"
   ]
  },
  {
   "cell_type": "markdown",
   "metadata": {
    "id": "GU3dT2IWBfrm"
   },
   "source": [
    "### VS Code"
   ]
  },
  {
   "cell_type": "markdown",
   "metadata": {
    "id": "iyeIu1q-Bfrm"
   },
   "source": [
    "<img src='https://datasets-humai.s3.amazonaws.com/images/IDE.png'></img>"
   ]
  },
  {
   "cell_type": "markdown",
   "metadata": {
    "id": "681cwTT4Bfrn"
   },
   "source": [
    "### Pycharm"
   ]
  },
  {
   "cell_type": "markdown",
   "metadata": {
    "id": "GHZHm_zHBfrp"
   },
   "source": [
    "<img src='https://datasets-humai.s3.amazonaws.com/images/Pycharm.png'></img>"
   ]
  },
  {
   "cell_type": "markdown",
   "metadata": {
    "id": "2-eysigSBfrq"
   },
   "source": [
    "### Spyder"
   ]
  },
  {
   "cell_type": "markdown",
   "metadata": {
    "id": "RTTLVixLBfrr"
   },
   "source": [
    "<img src='https://datasets-humai.s3.amazonaws.com/images/spyder.png'></img>"
   ]
  },
  {
   "cell_type": "markdown",
   "metadata": {
    "id": "zz37KJbi7Adx"
   },
   "source": [
    "# Hola Jupyter!\n",
    "\n",
    "En esta _notebook_ conoceremos el entorno Jupyter (o Google Colaboratory, una versión online gratuita), interfaz incluida en la instalación de Python ampliamente usada para Data Science llamada <a href=\"https://www.anaconda.com/products/individual\"/> Anaconda </a>. Para seguir el curso offline, luego de descargar e instalar Anaconda, si usan Windows deberán buscar el programa en su computadora y ejecutar Jupyter.\n",
    "\n",
    "Si están en una distribución de linux o Mac pueden ejecutar en la terminal:\n",
    "\n",
    "> jupyter notebook\n",
    "\n",
    "Cada una de estas _celdas_ funciona como un bloque donde podemos escribir texto plano, Latex, HTML, además de ejecutar código Python, R, bash y otros. \n",
    "\n",
    "$$\\bar{x} = \\frac{1}{n} \\sum_{i=1}^n x_i$$"
   ]
  },
  {
   "cell_type": "markdown",
   "metadata": {
    "id": "AcoLjYP-NWpd"
   },
   "source": [
    "# Declarando variables <a name=\"section-2\"></a>"
   ]
  },
  {
   "cell_type": "markdown",
   "metadata": {
    "id": "oFtrilzdZHCG"
   },
   "source": [
    "Existen distintos tipos de variables:\n",
    "- int: entero\n",
    "- float: punto flotante\n",
    "- string: cadena de caracteres\n",
    "- bool: booleano, 0, 1, True o False\n",
    "\n",
    "Y estructuras de datos, como:\n",
    "  - list: lista de elementos (de cualquier tipo, incluida otra lista)\n",
    "  - dict: \"diccionario\", conjunto de pares llave:valor\n",
    "  \n",
    "Veamos un primer ejemplo"
   ]
  },
  {
   "cell_type": "code",
   "execution_count": null,
   "metadata": {
    "id": "bcYiG0dVBfrt"
   },
   "outputs": [],
   "source": [
    "primera_variable = 'Hola mundo!'\n",
    "\n",
    "print(primera_variable)"
   ]
  },
  {
   "cell_type": "markdown",
   "metadata": {
    "id": "vw8DIAatBfrv"
   },
   "source": [
    "Declaramos una variable llamada *primera_variable* asignándole el valor de \"Hola mundo!\". La **función print** toma entre paréntesis esa variable y muestra el valor en pantalla. "
   ]
  },
  {
   "cell_type": "markdown",
   "metadata": {
    "id": "enn4w0GwBfrw"
   },
   "source": [
    "En Jupyter la última línea de una celda se imprime al ejecutar..."
   ]
  },
  {
   "cell_type": "code",
   "execution_count": null,
   "metadata": {
    "id": "1deNvgr6Bfrw"
   },
   "outputs": [],
   "source": [
    "primera_variable"
   ]
  },
  {
   "cell_type": "markdown",
   "metadata": {
    "id": "YopuKOGuBfrx"
   },
   "source": [
    "## Numéricos"
   ]
  },
  {
   "cell_type": "markdown",
   "metadata": {
    "id": "mgvyq-eoBfrx"
   },
   "source": [
    "Declaramos dos variables de tipo numérico:"
   ]
  },
  {
   "cell_type": "code",
   "execution_count": null,
   "metadata": {
    "hidePrompt": true,
    "id": "mfxF76C4ZGJK"
   },
   "outputs": [],
   "source": [
    "x = 5\n",
    "y = 17"
   ]
  },
  {
   "cell_type": "markdown",
   "metadata": {
    "id": "p-cxpa0iBfry"
   },
   "source": [
    "Podemos hacer las operaciones numéricas usuales:"
   ]
  },
  {
   "cell_type": "code",
   "execution_count": null,
   "metadata": {
    "hidePrompt": true,
    "id": "vhBUJlHcBfry"
   },
   "outputs": [],
   "source": [
    "print(x+y) # suma\n",
    "print(x*2) # multiplicacion\n",
    "print(x**(1/2)) # elevado a "
   ]
  },
  {
   "cell_type": "markdown",
   "metadata": {
    "id": "Sj-xDo0jBfrz"
   },
   "source": [
    "## Operaciones numéricas - Divisiones"
   ]
  },
  {
   "cell_type": "markdown",
   "metadata": {
    "id": "HPKXMjz-Bfr0"
   },
   "source": [
    "Devuelve la división:"
   ]
  },
  {
   "cell_type": "code",
   "execution_count": null,
   "metadata": {
    "id": "84M5F7oQBfr0"
   },
   "outputs": [],
   "source": [
    "print(y / x)"
   ]
  },
  {
   "cell_type": "markdown",
   "metadata": {
    "id": "v-Bk070rBfr1"
   },
   "source": [
    "Devuelve la parte entera de la división:"
   ]
  },
  {
   "cell_type": "code",
   "execution_count": null,
   "metadata": {
    "id": "5OXaW3bbBfr1"
   },
   "outputs": [],
   "source": [
    "print(y // x) "
   ]
  },
  {
   "cell_type": "markdown",
   "metadata": {
    "id": "dx0hlc2RBfr1"
   },
   "source": [
    "Devuelve el resto:"
   ]
  },
  {
   "cell_type": "code",
   "execution_count": null,
   "metadata": {
    "id": "94CCJaImBfr2"
   },
   "outputs": [],
   "source": [
    "print(y % x)"
   ]
  },
  {
   "cell_type": "markdown",
   "metadata": {
    "id": "-82SJnQCBfr2"
   },
   "source": [
    "Otros ejemplos:"
   ]
  },
  {
   "cell_type": "code",
   "execution_count": null,
   "metadata": {
    "hidePrompt": true,
    "id": "opYJR6lkBfr3"
   },
   "outputs": [],
   "source": [
    "un_string = 'variable de ejemplo'\n",
    "un_bool = True"
   ]
  },
  {
   "cell_type": "markdown",
   "metadata": {
    "id": "oafD3rcKBfr4"
   },
   "source": [
    "La **función** _type_ recibe de **argumento** una **variable** y **devuelve** su tipo"
   ]
  },
  {
   "cell_type": "code",
   "execution_count": null,
   "metadata": {
    "id": "PVyv-qkFBfr4"
   },
   "outputs": [],
   "source": [
    "type(x), type(y)"
   ]
  },
  {
   "cell_type": "markdown",
   "metadata": {
    "id": "E4hASANGBfr5"
   },
   "source": [
    "Intentemos la siguiente suma..."
   ]
  },
  {
   "cell_type": "code",
   "execution_count": null,
   "metadata": {
    "id": "JqX5_JDlBfr6"
   },
   "outputs": [],
   "source": [
    "5 + \"10\""
   ]
  },
  {
   "cell_type": "markdown",
   "metadata": {
    "id": "IsXOCsjBBfr6"
   },
   "source": [
    "¿Qué paso?"
   ]
  },
  {
   "cell_type": "markdown",
   "metadata": {
    "id": "p4Uq_UFABfr7"
   },
   "source": [
    "Si **convertimos** el string \"10\" a tipo int"
   ]
  },
  {
   "cell_type": "code",
   "execution_count": null,
   "metadata": {
    "id": "XUzp-ZlzBfr7"
   },
   "outputs": [],
   "source": [
    "5 + int('10')"
   ]
  },
  {
   "cell_type": "markdown",
   "metadata": {
    "id": "BFR9hmoTBfr8"
   },
   "source": [
    "Cada tipo de variable responde a ciertos **métodos**. Veamos las operaciones lógicas, que utilizan **booleanos**"
   ]
  },
  {
   "cell_type": "markdown",
   "metadata": {
    "id": "5SmabxymBfr8"
   },
   "source": [
    "## Booleanos"
   ]
  },
  {
   "cell_type": "markdown",
   "metadata": {
    "id": "yd004D48Bfr9"
   },
   "source": [
    "### Operaciones lógicas"
   ]
  },
  {
   "cell_type": "code",
   "execution_count": null,
   "metadata": {
    "id": "hffyWBMDBfr9"
   },
   "outputs": [],
   "source": [
    "print(10 >= 9)"
   ]
  },
  {
   "cell_type": "code",
   "execution_count": null,
   "metadata": {
    "id": "_Mcww2xeBfr9"
   },
   "outputs": [],
   "source": [
    "print(\"palabra\" == \"palabra\")\n",
    "print(\"otras palabras\" != \"otras palabras\") "
   ]
  },
  {
   "cell_type": "code",
   "execution_count": null,
   "metadata": {
    "id": "4einm9IrBfr-"
   },
   "outputs": [],
   "source": [
    "print(\"test\" in \"testing\")\n",
    "\n",
    "a = 'testing'\n",
    "\n",
    "print('test' in a)"
   ]
  },
  {
   "cell_type": "markdown",
   "metadata": {
    "id": "w-R0mes8Bfr_"
   },
   "source": [
    "Los operadores disponibles son: \n",
    "\n",
    "    Relacionales:\n",
    "    - >= , <=, <, > : Mayor o igual, menor o igual, mayor o menor\n",
    "    - != , == : Distinto, Igual\n",
    "    - in : Contenido por \n",
    "    Lógicos:\n",
    "    - not o ~ : Negación\n",
    "    - and o & : Ambas verdaderas\n",
    "    - or o | : Una u otra es verdadera\n",
    "    \n",
    "Como booleanos, se pueden utilizar tanto 0 y 1 como True y False."
   ]
  },
  {
   "cell_type": "markdown",
   "metadata": {
    "id": "POtltCtuBfr_"
   },
   "source": [
    "# Ejercicios <a name=\"section-3\"></a>\n",
    "\n",
    "\n",
    "1- Definan a = 5, b = 7 y c = 8\n",
    "\n",
    "Prueben las siguientes operaciones booleanas:\n",
    "\n",
    "2- a > b\n",
    "\n",
    "3- a < b\n",
    "\n",
    "4- a + b < c\n",
    "\n",
    "5- (a + b > c) | (a + b < c) --> a + b o es mayor a c o es menor\n",
    "\n",
    "6- (a + b > c) & (a + b < c) --> a + b es mayor a c y es menor a c"
   ]
  },
  {
   "cell_type": "markdown",
   "metadata": {
    "id": "rM30o3GtBfr_"
   },
   "source": [
    "## Strings <a name=\"section-4\"></a>"
   ]
  },
  {
   "cell_type": "code",
   "execution_count": null,
   "metadata": {
    "id": "veq8y9rFBfsA"
   },
   "outputs": [],
   "source": [
    "\"dos strings se pueden \" + \"sumar\""
   ]
  },
  {
   "cell_type": "markdown",
   "metadata": {
    "id": "bTbXpAaeBfsB"
   },
   "source": [
    "Podemos acceder a ellos mediante **índices**. Los mismos funcionan para cualquier **iterable**, que es un objeto con muchos elementos que son accesibles secuencialmente. Podemos usar los índices para acceder a una posición determinada, pasándola entre corchetes [posición]. Es IMPORTANTE mencionar que en Python la primera posición tiene el índice 0 (y no 1)."
   ]
  },
  {
   "cell_type": "code",
   "execution_count": null,
   "metadata": {
    "id": "Me3g0xTEBfsB"
   },
   "outputs": [],
   "source": [
    "texto = \"programación en python\""
   ]
  },
  {
   "cell_type": "code",
   "execution_count": null,
   "metadata": {
    "id": "8PfOlozPBfsB"
   },
   "outputs": [],
   "source": [
    "texto[0]"
   ]
  },
  {
   "cell_type": "markdown",
   "metadata": {
    "id": "82sS3RLWBfsC"
   },
   "source": [
    "También podemos usar los índices para traer más de un elemento al mismo tiempo, usando el **slicing**. El slicing lleva tres parámetros: comienzo (start), final (stop) e intervalo o paso (step).\n",
    "\n",
    "- El parámetro comienzo (start) indica la primera posición incluida en la selección, por default es 0.\n",
    "\n",
    "- El parámetro final (stop) es la primera posición que NO va a estar incluída, por default se incluyen todos los elementos. \n",
    "\n",
    "- El parámetro intervalo o paso (step), es optativo e indica el tamaño del paso entre seleccionar un elemento y el siguiente, por default el paso es 1. El paso también puede ser negativo, en este caso contamos desde el final hacia el comienzo, esto es muy útil para dar vuelta los strings...\n",
    "\n",
    "    \n",
    "    [comienzo : final : intervalo] (en inglés es [start : stop : step] )\n",
    "    \n",
    "    \n",
    "El intervalo que se recibe es semi-abierto (indice_primero, indice_segundo], es decir se incluye el primero y no el segundo valor. Se admiten números negativos, que contabilizan desde el final."
   ]
  },
  {
   "cell_type": "code",
   "execution_count": null,
   "metadata": {
    "id": "DlMYh-zFBfsD"
   },
   "outputs": [],
   "source": [
    "texto[:]"
   ]
  },
  {
   "cell_type": "code",
   "execution_count": null,
   "metadata": {
    "id": "LcLb1djLBfsD"
   },
   "outputs": [],
   "source": [
    "texto[:1]"
   ]
  },
  {
   "cell_type": "code",
   "execution_count": null,
   "metadata": {
    "id": "tDF4MVzIBfsD"
   },
   "outputs": [],
   "source": [
    "texto[1:4]"
   ]
  },
  {
   "cell_type": "code",
   "execution_count": null,
   "metadata": {
    "id": "v8Ec186RBfsE"
   },
   "outputs": [],
   "source": [
    "texto[::-1]"
   ]
  },
  {
   "cell_type": "markdown",
   "metadata": {
    "id": "bP9JEfd0BfsE"
   },
   "source": [
    "Ejercicio \n",
    "\n",
    "1- Dado ese string devuelvan únicamente la palabra python usando slicing"
   ]
  },
  {
   "cell_type": "code",
   "execution_count": null,
   "metadata": {
    "id": "P_EqYsV6BfsE"
   },
   "outputs": [],
   "source": [
    "texto"
   ]
  },
  {
   "cell_type": "code",
   "execution_count": null,
   "metadata": {
    "id": "4RBxFWgyBfsG"
   },
   "outputs": [],
   "source": [
    "texto[16:23]"
   ]
  },
  {
   "cell_type": "code",
   "execution_count": null,
   "metadata": {
    "id": "gTns8ttoBfsG"
   },
   "outputs": [],
   "source": [
    "texto[16:23]"
   ]
  },
  {
   "cell_type": "code",
   "execution_count": null,
   "metadata": {
    "id": "UyZUGY9EBfsG"
   },
   "outputs": [],
   "source": [
    "texto[-6:]"
   ]
  },
  {
   "cell_type": "code",
   "execution_count": null,
   "metadata": {
    "id": "PVz4V3mQBfsH"
   },
   "outputs": [],
   "source": [
    "texto[-6:23:1]"
   ]
  },
  {
   "cell_type": "markdown",
   "metadata": {
    "id": "kJWwZSIPBfsH"
   },
   "source": [
    "Veamos algunos otros métodos de los strings"
   ]
  },
  {
   "cell_type": "code",
   "execution_count": null,
   "metadata": {
    "id": "gRRKjzyPBfsI"
   },
   "outputs": [],
   "source": [
    "texto.upper()"
   ]
  },
  {
   "cell_type": "code",
   "execution_count": null,
   "metadata": {
    "id": "pXPrd1TABfsI"
   },
   "outputs": [],
   "source": [
    "texto.title()"
   ]
  },
  {
   "cell_type": "code",
   "execution_count": null,
   "metadata": {
    "id": "N9bsG9c7BfsT"
   },
   "outputs": [],
   "source": [
    "texto.split() # Devuelve una lista, de ésto vamos a hablar a continuación"
   ]
  },
  {
   "cell_type": "markdown",
   "metadata": {
    "id": "P1HGQOR_BfsT"
   },
   "source": [
    "Otras formas de combinar variables y texto..."
   ]
  },
  {
   "cell_type": "markdown",
   "metadata": {
    "id": "8Ur38lP0BfsT"
   },
   "source": [
    "Rellenamos un string con **.format(query, modales)**:"
   ]
  },
  {
   "cell_type": "code",
   "execution_count": null,
   "metadata": {
    "id": "3Oje1n86BfsT"
   },
   "outputs": [],
   "source": [
    "tema = 'data science'\n",
    "modales = 'por favor'\n",
    "\n",
    "'Dame información de {0} si esta disponible, {1}'.format(tema, modales)"
   ]
  },
  {
   "cell_type": "code",
   "execution_count": null,
   "metadata": {
    "id": "OvBJ54JGBfsU"
   },
   "outputs": [],
   "source": [
    "#Otra manera\n",
    "print(f'Dame información de {tema.upper()} si esta disponible, {modales}')"
   ]
  },
  {
   "cell_type": "markdown",
   "metadata": {
    "id": "Jvtq6AneBfsU"
   },
   "source": [
    "Otros métodos a mencionar son:"
   ]
  },
  {
   "cell_type": "code",
   "execution_count": null,
   "metadata": {
    "id": "3GHPXJOZBfsW"
   },
   "outputs": [],
   "source": [
    "\"1000\".isdigit()"
   ]
  },
  {
   "cell_type": "code",
   "execution_count": null,
   "metadata": {
    "id": "gMa7DM4gBfsW"
   },
   "outputs": [],
   "source": [
    "texto.replace(' ', '...')"
   ]
  },
  {
   "cell_type": "code",
   "execution_count": null,
   "metadata": {
    "id": "O7RI3VYwBfsW"
   },
   "outputs": [],
   "source": [
    "\"   quitando espacios  \".strip()"
   ]
  },
  {
   "cell_type": "code",
   "execution_count": null,
   "metadata": {
    "id": "JhB8nuURBfsX"
   },
   "outputs": [],
   "source": [
    "texto = \"Me gusta el 37\" # Piso el contenido de la variable para hacer otras pruebas\n",
    "texto.isalpha()"
   ]
  },
  {
   "cell_type": "code",
   "execution_count": null,
   "metadata": {
    "id": "MGl0IbAkBfsX"
   },
   "outputs": [],
   "source": [
    "texto = \"Me\" # Piso el contenido de la variable\n",
    "texto.isalpha()"
   ]
  },
  {
   "cell_type": "markdown",
   "metadata": {
    "id": "eYl_TzA4BfsY"
   },
   "source": [
    "#### Ejercicios <a name=\"section-5\"></a>\n",
    "\n",
    "1- Concatenar los string \"hola\" y \"qué tal\", separando ambos strings con un espacio (Tip: un espacio es: \" \")\n",
    "\n",
    "2- Guardar el resultado anterior en una variable y pasar el texto a mayúsculas."
   ]
  },
  {
   "cell_type": "code",
   "execution_count": null,
   "metadata": {
    "id": "p-wkkqKKBfsZ"
   },
   "outputs": [],
   "source": [
    "# Ejercicio 1"
   ]
  },
  {
   "cell_type": "code",
   "execution_count": null,
   "metadata": {
    "id": "as1Te2LzBfsZ"
   },
   "outputs": [],
   "source": [
    "# Ejercicio 2"
   ]
  },
  {
   "cell_type": "markdown",
   "metadata": {
    "id": "Ifx-toaCBfsZ"
   },
   "source": [
    "## Listas <a name=\"section-6\"></a>\n",
    "\n",
    "Las listas son un conjunto de elementos ordenados. Estos elementos pueden ser de cualquier tipo, incluyendo otras listas. Veamos algunas operaciones con ellas."
   ]
  },
  {
   "cell_type": "code",
   "execution_count": null,
   "metadata": {
    "id": "gXok1a7qBfsZ",
    "scrolled": true
   },
   "outputs": [],
   "source": [
    "amigos = ['Mateo', 'Nico', 'Claudia', 'Ernestina', 'Paola']"
   ]
  },
  {
   "cell_type": "markdown",
   "metadata": {
    "id": "0JAJf-CqBfsb"
   },
   "source": [
    "### Indexing y slicing en listas"
   ]
  },
  {
   "cell_type": "markdown",
   "metadata": {
    "id": "nvBKlFCeBfsb"
   },
   "source": [
    "De la misma forma que con los strings en el contexto de la listas generalmente hablamos de **indexación** o acceso por índice a la acción de encontrar un valor según su posición en la lista. \n",
    "\n",
    "Importantísimo (sí, ¡una vez más!): En Python el primer elemento se indexa con el valor 0. Es decir, si queremos el primer valor de una lista tenemos que llamar a la posición 0."
   ]
  },
  {
   "cell_type": "code",
   "execution_count": null,
   "metadata": {
    "id": "HVKIARRgBfsb"
   },
   "outputs": [],
   "source": [
    "amigos[0]"
   ]
  },
  {
   "cell_type": "markdown",
   "metadata": {
    "id": "Jt7e1NsQBfsc"
   },
   "source": [
    "Además, el último elemento se indexa como -1, el siguiente -2 y así sucesivamente. Entonces para acceder al último elemento:"
   ]
  },
  {
   "cell_type": "code",
   "execution_count": null,
   "metadata": {
    "id": "2RcwSVoHBfsc"
   },
   "outputs": [],
   "source": [
    "amigos[-1]"
   ]
  },
  {
   "cell_type": "markdown",
   "metadata": {
    "id": "-537x5KiBfsc"
   },
   "source": [
    "Además, podemos acceder a varios elementos en simultáneo, usando el **slicing** de la misma manera que con strings.\n",
    "\n",
    "El slicing aplicado a una lista nos devuelve una **lista**.\n",
    "\n",
    "Veamos algunos ejemplos:"
   ]
  },
  {
   "cell_type": "code",
   "execution_count": null,
   "metadata": {
    "id": "FJXGLNPSBfsd"
   },
   "outputs": [],
   "source": [
    "amigos[:] # arranco en 0 hasta el final, con el paso default (1)"
   ]
  },
  {
   "cell_type": "code",
   "execution_count": null,
   "metadata": {
    "id": "rok7yRMgBfsd"
   },
   "outputs": [],
   "source": [
    "amigos[:1] # arranco en 0 y el primero sin incluir es el 1, con el paso default (1)"
   ]
  },
  {
   "cell_type": "code",
   "execution_count": null,
   "metadata": {
    "id": "Dc_NRwbQBfse"
   },
   "outputs": [],
   "source": [
    "amigos[:-1] # excluímos el último elemento"
   ]
  },
  {
   "cell_type": "code",
   "execution_count": null,
   "metadata": {
    "id": "G2wHKcFUBfse"
   },
   "outputs": [],
   "source": [
    "amigos[::2] # salteamos un elemento a la vez"
   ]
  },
  {
   "cell_type": "markdown",
   "metadata": {
    "id": "34je_cPCBfse"
   },
   "source": [
    "Ejercicios:\n",
    "\n",
    "1- ¿Es el resultado de amigos[:1] igual al de acceder directamente a la primera posición? \n",
    "\n",
    "2- Recorrer la lista de elementos de atrás para adelante.\n",
    "\n",
    "3- Seleccionar del 3er elemento al 4to elemento."
   ]
  },
  {
   "cell_type": "markdown",
   "metadata": {
    "id": "-O9khv0ZBfse"
   },
   "source": [
    "### Otras operaciones y métodos"
   ]
  },
  {
   "cell_type": "markdown",
   "metadata": {
    "id": "l5bqdlQ5Bfse"
   },
   "source": [
    "Agregar un nuevo elemento:"
   ]
  },
  {
   "cell_type": "code",
   "execution_count": null,
   "metadata": {
    "id": "XWOaiK63Bfsf"
   },
   "outputs": [],
   "source": [
    "amigos.append('Chicharito')\n",
    "print(amigos)\n",
    "\n",
    "amigos = amigos + ['Chicharito']\n",
    "\n",
    "x = 10\n",
    "\n",
    "x = x + 3\n",
    "\n",
    "x"
   ]
  },
  {
   "cell_type": "markdown",
   "metadata": {
    "id": "zZU8Xao5Bfsg"
   },
   "source": [
    "Sumamos otra lista:"
   ]
  },
  {
   "cell_type": "code",
   "execution_count": null,
   "metadata": {
    "id": "AkveZfW9Bfsi"
   },
   "outputs": [],
   "source": [
    "amigos = amigos + ['Pipi', 'Toto']\n",
    "print(amigos) "
   ]
  },
  {
   "cell_type": "markdown",
   "metadata": {
    "id": "3INZtsqYBfsj"
   },
   "source": [
    "Unir una lista con un separador dado:"
   ]
  },
  {
   "cell_type": "code",
   "execution_count": null,
   "metadata": {
    "id": "TP1iknqyBfsk"
   },
   "outputs": [],
   "source": [
    "ejemplo = ['valor1', 'valor2', 'valor3']\n",
    "';'.join(ejemplo)"
   ]
  },
  {
   "cell_type": "markdown",
   "metadata": {
    "id": "b7IG1gm7Bfsk"
   },
   "source": [
    "El ejercicio 1 se podría haber resuelto usando .join así:"
   ]
  },
  {
   "cell_type": "code",
   "execution_count": null,
   "metadata": {
    "id": "OhCy7zX5Bfsk"
   },
   "outputs": [],
   "source": [
    "\" \".join([\"hola\", \"qué tal\"])"
   ]
  },
  {
   "cell_type": "markdown",
   "metadata": {
    "id": "FeyHfyeNBfsk"
   },
   "source": [
    "Borrado por valor:"
   ]
  },
  {
   "cell_type": "code",
   "execution_count": null,
   "metadata": {
    "id": "vmgK_8cxBfsl"
   },
   "outputs": [],
   "source": [
    "amigos.remove('Mateo')\n",
    "print(amigos)"
   ]
  },
  {
   "cell_type": "markdown",
   "metadata": {
    "id": "NeZzUKjQBfsl"
   },
   "source": [
    "Borrado por índice:"
   ]
  },
  {
   "cell_type": "code",
   "execution_count": null,
   "metadata": {
    "id": "RQj5ODvyBfsl",
    "scrolled": true
   },
   "outputs": [],
   "source": [
    "del amigos[0]\n",
    "print(amigos)"
   ]
  },
  {
   "cell_type": "markdown",
   "metadata": {
    "id": "ko9JwLCNBfsl"
   },
   "source": [
    "Devuelve un elemento y lo borra de la lista:"
   ]
  },
  {
   "cell_type": "code",
   "execution_count": null,
   "metadata": {
    "id": "MP-bKGAmBfsm"
   },
   "outputs": [],
   "source": [
    "valor = amigos.pop(0)"
   ]
  },
  {
   "cell_type": "code",
   "execution_count": null,
   "metadata": {
    "id": "YrrhUdabBfsm"
   },
   "outputs": [],
   "source": [
    "edades = [30, 40, 38, 30, 37]"
   ]
  },
  {
   "cell_type": "markdown",
   "metadata": {
    "id": "f0fnZYRTBfsm"
   },
   "source": [
    "Cantidad de apariciones:"
   ]
  },
  {
   "cell_type": "code",
   "execution_count": null,
   "metadata": {
    "id": "2ze24P6eBfsm"
   },
   "outputs": [],
   "source": [
    "print(edades.count(30))"
   ]
  },
  {
   "cell_type": "markdown",
   "metadata": {
    "id": "H-8e9uCCBfsn"
   },
   "source": [
    "Largo de la lista:"
   ]
  },
  {
   "cell_type": "code",
   "execution_count": null,
   "metadata": {
    "id": "8hwbBi2MBfsn"
   },
   "outputs": [],
   "source": [
    "print(len(edades))"
   ]
  },
  {
   "cell_type": "markdown",
   "metadata": {
    "id": "zsZmSFIWBfsn"
   },
   "source": [
    "Ordenar la lista:"
   ]
  },
  {
   "cell_type": "code",
   "execution_count": null,
   "metadata": {
    "id": "ABVPHbU4Bfso"
   },
   "outputs": [],
   "source": [
    "sorted(edades)"
   ]
  },
  {
   "cell_type": "markdown",
   "metadata": {
    "id": "VXpN48K1Bfso"
   },
   "source": [
    "Sumar el total:"
   ]
  },
  {
   "cell_type": "code",
   "execution_count": null,
   "metadata": {
    "id": "3R7cQx8GBfso"
   },
   "outputs": [],
   "source": [
    "print(sum(edades))"
   ]
  },
  {
   "cell_type": "markdown",
   "metadata": {
    "id": "gC3DmJnnBfsp"
   },
   "source": [
    "Mínimo:"
   ]
  },
  {
   "cell_type": "code",
   "execution_count": null,
   "metadata": {
    "id": "eN3djY8vBfsp"
   },
   "outputs": [],
   "source": [
    "print(min(edades))"
   ]
  },
  {
   "cell_type": "markdown",
   "metadata": {
    "id": "X9_wJrx_Bfsp"
   },
   "source": [
    "Máximo:"
   ]
  },
  {
   "cell_type": "code",
   "execution_count": null,
   "metadata": {
    "id": "NYFr0iSTBfsq"
   },
   "outputs": [],
   "source": [
    "print(max(edades))"
   ]
  },
  {
   "cell_type": "markdown",
   "metadata": {
    "id": "4JNLL1dFBfsq"
   },
   "source": [
    "Ejercicio: <a name=\"section-7\"></a>\n",
    "\n",
    "1- Calcular el promedio de edad de la lista \"edades\"\n"
   ]
  },
  {
   "cell_type": "code",
   "execution_count": null,
   "metadata": {
    "id": "mKhy96XZBfsq"
   },
   "outputs": [],
   "source": [
    "# Ejercicio 1"
   ]
  },
  {
   "cell_type": "markdown",
   "metadata": {
    "id": "AiiOvkxjBfsr"
   },
   "source": [
    "## Diccionarios <a name=\"section-8\"></a>\n",
    "\n",
    "Los diccionarios consisten en estructuras que contienen pares de una **llave** y un **valor**. Los elementos NO están ordenados, con lo cual no se puede acceder por posición ni slicing.\n",
    "\n",
    "Veamos un ejemplo"
   ]
  },
  {
   "cell_type": "code",
   "execution_count": null,
   "metadata": {
    "id": "HBrK3aTRBfsr"
   },
   "outputs": [],
   "source": [
    "dnis = {'Herrera':32676585, 'Guzmán':9564787, \n",
    "        'Pérez':5676898, 'Hernández':40565999, \n",
    "        'Abraham':28375814,\n",
    "       \"soy_una_llave\":\"soy_un_valor\"} "
   ]
  },
  {
   "cell_type": "markdown",
   "metadata": {
    "id": "Q0jTWATWBfss"
   },
   "source": [
    "Sin embargo, sí podemos acceder a un elemento por su llave. Accedemos al valor de \"Abraham\""
   ]
  },
  {
   "cell_type": "code",
   "execution_count": null,
   "metadata": {
    "id": "2aW4qHE8Bfss"
   },
   "outputs": [],
   "source": [
    "dnis['Abraham'] # noten que se usa la misma notación que con las listas"
   ]
  },
  {
   "cell_type": "markdown",
   "metadata": {
    "id": "5qjMEFAzBfst"
   },
   "source": [
    "¿Qué pasa si tratamos un diccionario como una lista?"
   ]
  },
  {
   "cell_type": "code",
   "execution_count": null,
   "metadata": {
    "id": "hMHFRMKUBfst"
   },
   "outputs": [],
   "source": [
    "dnis[0]"
   ]
  },
  {
   "cell_type": "markdown",
   "metadata": {
    "id": "xzpHGKYpBfsu"
   },
   "source": [
    "Tenemos un error, tratemos de interpretarlo: KeyError se refierre a que no existe una llave (Key) a la que se trató de acceder. En este caso la llave que se trató de acceder es 0."
   ]
  },
  {
   "cell_type": "markdown",
   "metadata": {
    "id": "IBE7KP5dBfsu"
   },
   "source": [
    "Podemos ver todas las llaves:"
   ]
  },
  {
   "cell_type": "code",
   "execution_count": null,
   "metadata": {
    "id": "WIgit8XABfsv"
   },
   "outputs": [],
   "source": [
    "dnis.keys()"
   ]
  },
  {
   "cell_type": "markdown",
   "metadata": {
    "id": "WgpFgTmuBfsv"
   },
   "source": [
    "Traer todos los pares de elementos:"
   ]
  },
  {
   "cell_type": "code",
   "execution_count": null,
   "metadata": {
    "id": "WSp837SQBfsv"
   },
   "outputs": [],
   "source": [
    "dnis.items()"
   ]
  },
  {
   "cell_type": "markdown",
   "metadata": {
    "id": "eVCuzJumBfsw"
   },
   "source": [
    "Y utilizar los mismos métodos para borrar y extrar como en las listas:"
   ]
  },
  {
   "cell_type": "code",
   "execution_count": null,
   "metadata": {
    "id": "hve8nViLBfsw"
   },
   "outputs": [],
   "source": [
    "dnis.pop('Herrera')"
   ]
  },
  {
   "cell_type": "markdown",
   "metadata": {
    "id": "zYrRfGQ8Bfsw"
   },
   "source": [
    "Los diccionarios tienen longitud, de la misma forma que las listas y string"
   ]
  },
  {
   "cell_type": "code",
   "execution_count": null,
   "metadata": {
    "id": "a43t00F-Bfsx"
   },
   "outputs": [],
   "source": [
    "len(dnis)"
   ]
  },
  {
   "cell_type": "markdown",
   "metadata": {
    "id": "a6-S8G2wBfsx"
   },
   "source": [
    "## Condicionales <a name=\"section-9\"></a>\n",
    "\n",
    "El condicional tiene la siguiente sintáxis:\n",
    "\n",
    "    if CONDICIÓN:\n",
    "        código1\n",
    "    elif CONDICIÓN2:\n",
    "        código2\n",
    "    else:\n",
    "        código3\n",
    "        \n",
    "Donde la condición es un operador que devuelve un objeto de tipo booleano. La **indentación** del código define qué parte se incluye como condicional.\n",
    "\n",
    "El término \"elif\" viene de \"else if\". La condición sólo se evaluará si la condición del \"if\" no se cumple. "
   ]
  },
  {
   "cell_type": "code",
   "execution_count": null,
   "metadata": {
    "id": "WaF6pWaABfsx"
   },
   "outputs": [],
   "source": [
    "precio_dolar = 62\n",
    "\n",
    "if precio_dolar >= 90:\n",
    "    print(\"El dólar se fue por las nubes\")\n",
    "elif (precio_dolar < 90) and (precio_dolar >= 70):\n",
    "    print(\"El dolar subió\")\n",
    "else: \n",
    "    print(\"El dólar es menor a 70\")\n",
    "\n",
    "print(precio_dolar)"
   ]
  },
  {
   "cell_type": "markdown",
   "metadata": {
    "id": "1L9tOkUYBfsx"
   },
   "source": [
    "## Bucles o Loops\n",
    "\n",
    "Los bucles son un tipo de sentencia donde se realiza el código contenido repetidamente. Existen dos tipos. En el bucle **for**, se **itera** o recorre un conjunto de elementos actuando por cada uno de ellos. En el bucle **while** se itera hasta que se cumple una condiciónn de corte."
   ]
  },
  {
   "cell_type": "markdown",
   "metadata": {
    "id": "Da6OqAzTBfsy"
   },
   "source": [
    "### For loop"
   ]
  },
  {
   "cell_type": "code",
   "execution_count": null,
   "metadata": {
    "id": "FSQpPxjtBfsy"
   },
   "outputs": [],
   "source": [
    "for n in [1,2,'3']:\n",
    "    print(f'EL tipo es {n*2} {type(n*2)}')"
   ]
  },
  {
   "cell_type": "code",
   "execution_count": null,
   "metadata": {
    "id": "K3rO_6-iBfsy"
   },
   "outputs": [],
   "source": [
    "lista = [1,2,3,4,5]\n",
    "\n",
    "for n in lista:\n",
    "    print(n * 2)"
   ]
  },
  {
   "cell_type": "markdown",
   "metadata": {
    "id": "ou8v6wwSBfsy"
   },
   "source": [
    "También agreguemos la función **range** a nuestro repertorio. La función range consta de tres parámetros importante: start, stop, step. Si pasamos un sólo parámetro, estamos pasando el \"stop\" y tomamos 0 como valor default de \"start\". Del mismo modo que cuando vimos listas, el stop no está incluído y el step por default es 1.\n",
    "\n",
    "Veamos cómo funciona:"
   ]
  },
  {
   "cell_type": "code",
   "execution_count": null,
   "metadata": {
    "id": "XkFuyfpeBfsz"
   },
   "outputs": [],
   "source": [
    "for n in range(5):\n",
    "    print(n)"
   ]
  },
  {
   "cell_type": "markdown",
   "metadata": {
    "id": "Ch1kSXNeBfsz"
   },
   "source": [
    "Si pasamos dos parámetros, estamos pasando el start y el stop, el primer valor es el \"start\" y el segundo el \"stop\"."
   ]
  },
  {
   "cell_type": "code",
   "execution_count": null,
   "metadata": {
    "id": "VmW8A2vYBfsz"
   },
   "outputs": [],
   "source": [
    "for n in range(0,5):\n",
    "    print(n)"
   ]
  },
  {
   "cell_type": "markdown",
   "metadata": {
    "id": "KPQo-7w6Bfs0"
   },
   "source": [
    "Noten que el valor de start se incluye y el de stop no:"
   ]
  },
  {
   "cell_type": "code",
   "execution_count": null,
   "metadata": {
    "id": "etkiRO9yBfs0"
   },
   "outputs": [],
   "source": [
    "for n in range(1, 6): # esto nos da el mismo resultado que un par de celdas más arriba\n",
    "    print(n * 2)"
   ]
  },
  {
   "cell_type": "markdown",
   "metadata": {
    "id": "WWde5IumBfs0"
   },
   "source": [
    "Por último, el tercer parámetro es el step..."
   ]
  },
  {
   "cell_type": "markdown",
   "metadata": {
    "id": "Du0KFFD8Bfs0"
   },
   "source": [
    "Ejercicios combinando lo visto hasta el momento:\n",
    "\n",
    "1- Imprimir los valores de 1 a 50, salteando de a un valor por vez...\n",
    "\n",
    "2- Dada la siguiente lista: medios = [\"cheques\", \"bonos\", \"acciones\", 1000, \"transferencia\"]. Acceder al 2do elemento, y luego al 3er elemento (de ese 2do elemento) y responder qué devulve.\n",
    "\n",
    "3- De manera similar, ahora accedan al 4to elemento, y luego al 3er elemento de éste, ¿qué ocurre?\n",
    "\n",
    "4- Agreguen una lista vacía al final de esa lista.\n",
    "\n",
    "5- Recorran *medios* (iteren) y si el tipo del elemento es string, hagan un print de su primer elemento, si es int (entero) pásenlo a string y hagan un print de su primer elemento y si no es nada de eso hagan un print que diga \"Es otro tipo\". Tip1: para pasar un elemento a tipo string pueden usar la función str(variable), donde variable es el elemento que quieren transformar. Tip2: para arrancar este ejercicio pueden copiar lo siguiente:"
   ]
  },
  {
   "cell_type": "code",
   "execution_count": null,
   "metadata": {
    "id": "gncnNmpkBfs1"
   },
   "outputs": [],
   "source": [
    "for medio in medios:\n",
    "    pass # pass no hace nada, sólo pasa sin ejecutar nada... Reemplácenlo y completen con las condiciones."
   ]
  },
  {
   "cell_type": "markdown",
   "metadata": {
    "id": "VnLIWz_ABfs1"
   },
   "source": [
    "### While loop"
   ]
  },
  {
   "cell_type": "markdown",
   "metadata": {
    "id": "XTTR38VHBfs1"
   },
   "source": [
    "Los bucles **while** se definen con una condición, y el código contenido se ejecuta mientras la misma evalue como True. Es importante definir correctamente cuándo la condición pasa de True a False, si no lo hacemos podemos dejar corriendo un programa infinitamente sin que corte. Si eso llega a suceder tienen un botón de stop arriba en la notebook."
   ]
  },
  {
   "cell_type": "code",
   "execution_count": null,
   "metadata": {
    "id": "LO10ZcaHBfs1"
   },
   "outputs": [],
   "source": [
    "contador = 0\n",
    "\n",
    "while contador < 20:\n",
    "    contador += 1 # esto equivale a count = count + 1\n",
    "    print(contador)"
   ]
  },
  {
   "cell_type": "markdown",
   "metadata": {
    "id": "7QDKgzXwBfs2"
   },
   "source": [
    "---\n",
    "\n",
    "## Recursos y tips\n",
    "\n",
    "\n",
    "- [Google!](https://google.com)\n",
    "- [StackOverflow](https://stackoverflow.com)\n",
    "- [Google Colab](https://colab.research.google.com)\n",
    "- [Slicing](https://python-reference.readthedocs.io/en/latest/docs/brackets/slicing.html)\n",
    "--- \n",
    "\n",
    "## Tips en la práctica\n",
    "\n",
    "- Ver _docstring_ con Shift + TAB o help()\n",
    "- Leer Errores\n",
    "- Print"
   ]
  },
  {
   "cell_type": "code",
   "execution_count": null,
   "metadata": {
    "id": "rW95VMRmBfs2"
   },
   "outputs": [],
   "source": []
  }
 ],
 "metadata": {
  "colab": {
   "name": "tipos-datos.ipynb",
   "provenance": []
  },
  "kernelspec": {
   "display_name": "Python 3 (ipykernel)",
   "language": "python",
   "name": "python3"
  },
  "language_info": {
   "codemirror_mode": {
    "name": "ipython",
    "version": 3
   },
   "file_extension": ".py",
   "mimetype": "text/x-python",
   "name": "python",
   "nbconvert_exporter": "python",
   "pygments_lexer": "ipython3",
   "version": "3.8.5"
  }
 },
 "nbformat": 4,
 "nbformat_minor": 1
}
